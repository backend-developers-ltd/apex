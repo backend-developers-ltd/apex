{
 "cells": [
  {
   "cell_type": "code",
   "execution_count": 6,
   "metadata": {},
   "outputs": [],
   "source": [
    "import numpy as np\n",
    "import matplotlib.pyplot as plt\n",
    "\n",
    "\n",
    "raw_rewards = np.random.normal(1, 1, 1000)"
   ]
  },
  {
   "cell_type": "code",
   "execution_count": 1,
   "metadata": {},
   "outputs": [
    {
     "ename": "NameError",
     "evalue": "name 'np' is not defined",
     "output_type": "error",
     "traceback": [
      "\u001b[0;31m---------------------------------------------------------------------------\u001b[0m",
      "\u001b[0;31mNameError\u001b[0m                                 Traceback (most recent call last)",
      "Cell \u001b[0;32mIn[1], line 10\u001b[0m\n\u001b[1;32m      7\u001b[0m     all_rewards[raw_rewards \u001b[38;5;241m<\u001b[39m \u001b[38;5;241m0\u001b[39m] \u001b[38;5;241m=\u001b[39m \u001b[38;5;241m0\u001b[39m\n\u001b[1;32m      8\u001b[0m     \u001b[38;5;28;01mreturn\u001b[39;00m all_rewards\n\u001b[0;32m---> 10\u001b[0m raw_rewards \u001b[38;5;241m=\u001b[39m \u001b[43mnp\u001b[49m\u001b[38;5;241m.\u001b[39mrandom\u001b[38;5;241m.\u001b[39mnormal(\u001b[38;5;241m1\u001b[39m, \u001b[38;5;241m0.1\u001b[39m, \u001b[38;5;241m1000\u001b[39m)\n\u001b[1;32m     11\u001b[0m \u001b[38;5;28;01mfor\u001b[39;00m p \u001b[38;5;129;01min\u001b[39;00m [\u001b[38;5;241m0\u001b[39m, \u001b[38;5;241m0.5\u001b[39m, \u001b[38;5;241m0.6\u001b[39m, \u001b[38;5;241m0.7\u001b[39m, \u001b[38;5;241m1\u001b[39m]:\n\u001b[1;32m     12\u001b[0m     plt\u001b[38;5;241m.\u001b[39mplot(\u001b[38;5;28msorted\u001b[39m(apply_reward_func(raw_rewards, p\u001b[38;5;241m=\u001b[39mp)), label\u001b[38;5;241m=\u001b[39m\u001b[38;5;124mf\u001b[39m\u001b[38;5;124m\"\u001b[39m\u001b[38;5;124mp=\u001b[39m\u001b[38;5;132;01m{\u001b[39;00mp\u001b[38;5;132;01m}\u001b[39;00m\u001b[38;5;124m\"\u001b[39m)\n",
      "\u001b[0;31mNameError\u001b[0m: name 'np' is not defined"
     ]
    }
   ],
   "source": [
    "def apply_reward_func(raw_rewards, p):\n",
    "    exponent = (p**6.64385619)*100 # 6.64385619 = ln(100)/ln(2) -> this way if p=0.5, the exponent is exatly 1\n",
    "    positive_rewards = np.clip(raw_rewards, 0, np.inf)\n",
    "    normalised_rewards = positive_rewards / np.max(positive_rewards)\n",
    "    post_func_rewards = normalised_rewards ** exponent\n",
    "    all_rewards = post_func_rewards\n",
    "    all_rewards[raw_rewards < 0] = 0\n",
    "    return all_rewards\n",
    "\n",
    "raw_rewards = np.random.normal(1, 0.1, 1000)\n",
    "for p in [0, 0.5, 0.6, 0.7, 1]:\n",
    "    plt.plot(sorted(apply_reward_func(raw_rewards, p=p)), label=f\"p={p}\")\n",
    "plt.legend()"
   ]
  },
  {
   "cell_type": "code",
   "execution_count": 2,
   "metadata": {},
   "outputs": [
    {
     "name": "stderr",
     "output_type": "stream",
     "text": [
      "\u001b[32m2024-09-30 15:22:32.843\u001b[0m | \u001b[1mINFO    \u001b[0m | \u001b[36mprompting\u001b[0m:\u001b[36m<module>\u001b[0m:\u001b[36m17\u001b[0m - \u001b[1mProject version: 2.8.3\u001b[0m\n",
      "\u001b[32m2024-09-30 15:22:36.157\u001b[0m | \u001b[1mINFO    \u001b[0m | \u001b[36mprompting.settings\u001b[0m:\u001b[36mcomplete_settings\u001b[0m:\u001b[36m132\u001b[0m - \u001b[1mRunning in mock mode. Bittensor objects will not be initialized.\u001b[0m\n",
      "/root/.cache/pypoetry/virtualenvs/prompting-fb5sw-i7-py3.10/lib/python3.10/site-packages/tqdm/auto.py:21: TqdmWarning: IProgress not found. Please update jupyter and ipywidgets. See https://ipywidgets.readthedocs.io/en/stable/user_install.html\n",
      "  from .autonotebook import tqdm as notebook_tqdm\n",
      "2024-09-30 15:22:37,854\tINFO util.py:154 -- Missing packages: ['ipywidgets']. Run `pip install -U ipywidgets`, then restart the notebook server for rich notebook output.\n",
      "[nltk_data] Downloading package wordnet to /root/nltk_data...\n",
      "[nltk_data]   Package wordnet is already up-to-date!\n",
      "/root/.cache/pypoetry/virtualenvs/prompting-fb5sw-i7-py3.10/lib/python3.10/site-packages/pydantic/_internal/_generate_schema.py:547: UserWarning: <built-in function any> is not a Python type (it may be an instance of an object), Pydantic will allow any object with no validation since we cannot even enforce that the input is an instance of the given type. To get rid of this error wrap the type with `pydantic.SkipValidation`.\n",
      "  warn(\n"
     ]
    },
    {
     "data": {
      "text/plain": [
       "array([0.06666667, 0.13333333, 0.2       , 0.26666667, 0.33333333])"
      ]
     },
     "execution_count": 2,
     "metadata": {},
     "output_type": "execute_result"
    }
   ],
   "source": [
    "import numpy as np\n",
    "from prompting import settings\n",
    "settings.settings = settings.Settings(mode=\"mock\")\n",
    "raw_rewards = np.array([1.0, 2.0, 3.0, 4.0, 5.0])\n",
    "from prompting.weight_setting.weight_setter import apply_reward_func\n",
    "\n",
    "apply_reward_func(raw_rewards, p=0.5)"
   ]
  },
  {
   "cell_type": "code",
   "execution_count": 25,
   "metadata": {},
   "outputs": [],
   "source": [
    "def apply_reward_func(raw_rewards, p=0.5):\n",
    "    \"\"\"Apply the reward function to the raw rewards. P adjusts the steepness of the function - p = 0.5 leaves\n",
    "    the rewards unchanged, p < 0.5 makes the function more linear (at p=0 all miners with positives reward values get the same reward),\n",
    "    p > 0.5 makes the function more exponential (winner takes all).\n",
    "    \"\"\"\n",
    "    exponent = (p**6.64385619) * 100  # 6.64385619 = ln(100)/ln(2) -> this way if p=0.5, the exponent is exatly 1\n",
    "    positive_rewards = np.clip(raw_rewards, 1e-10, np.inf)\n",
    "    normalised_rewards = positive_rewards / np.max(positive_rewards)\n",
    "    post_func_rewards = normalised_rewards**exponent\n",
    "    all_rewards = post_func_rewards\n",
    "    all_rewards[raw_rewards <= 0] = 0\n",
    "    return all_rewards / (np.sum(all_rewards) + 1e-10)"
   ]
  },
  {
   "cell_type": "code",
   "execution_count": 27,
   "metadata": {},
   "outputs": [
    {
     "name": "stderr",
     "output_type": "stream",
     "text": [
      "/tmp/ipykernel_1882104/3678395219.py:8: RuntimeWarning: invalid value encountered in divide\n",
      "  normalised_rewards = positive_rewards / np.max(positive_rewards)\n"
     ]
    },
    {
     "data": {
      "text/plain": [
       "array([0.])"
      ]
     },
     "execution_count": 27,
     "metadata": {},
     "output_type": "execute_result"
    }
   ],
   "source": [
    "raw_rewards = np.array([0])\n",
    "result = apply_reward_func(raw_rewards, p=0.5)\n",
    "result"
   ]
  }
 ],
 "metadata": {
  "kernelspec": {
   "display_name": "prompting-fb5sw-i7-py3.10",
   "language": "python",
   "name": "python3"
  },
  "language_info": {
   "codemirror_mode": {
    "name": "ipython",
    "version": 3
   },
   "file_extension": ".py",
   "mimetype": "text/x-python",
   "name": "python",
   "nbconvert_exporter": "python",
   "pygments_lexer": "ipython3",
   "version": "3.10.12"
  }
 },
 "nbformat": 4,
 "nbformat_minor": 2
}
