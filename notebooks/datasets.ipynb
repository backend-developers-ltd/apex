{
 "cells": [
  {
   "cell_type": "code",
   "execution_count": 1,
   "metadata": {},
   "outputs": [
    {
     "name": "stderr",
     "output_type": "stream",
     "text": [
      "/root/.cache/pypoetry/virtualenvs/prompting-fb5sw-i7-py3.10/lib/python3.10/site-packages/tqdm/auto.py:21: TqdmWarning: IProgress not found. Please update jupyter and ipywidgets. See https://ipywidgets.readthedocs.io/en/stable/user_install.html\n",
      "  from .autonotebook import tqdm as notebook_tqdm\n",
      "/root/.cache/pypoetry/virtualenvs/prompting-fb5sw-i7-py3.10/lib/python3.10/site-packages/pydantic/_internal/_fields.py:201: UserWarning: Field name \"required_hash_fields\" in \"StreamPromptingSynapse\" shadows an attribute in parent \"StreamingSynapse\"\n",
      "  warnings.warn(\n",
      "/root/.cache/pypoetry/virtualenvs/prompting-fb5sw-i7-py3.10/lib/python3.10/site-packages/pydantic/_internal/_fields.py:201: UserWarning: Field name \"name\" in \"WikiDateDataset\" shadows an attribute in parent \"Dataset\"\n",
      "  warnings.warn(\n"
     ]
    }
   ],
   "source": [
    "from prompting.datasets.wiki import WikiDataset, WikiDateDataset"
   ]
  },
  {
   "cell_type": "code",
   "execution_count": 2,
   "metadata": {},
   "outputs": [
    {
     "name": "stdout",
     "output_type": "stream",
     "text": [
      "title='Ninja Assault' topic='Plot' subtopic='Plot' content='Plot' internal_links=['Gameplay', 'Plot', 'Release', 'Reception'] external_links=['GunCon 2', 'Namco', 'PlayStation 2', 'Sega', 'Arcade game', 'Sega NAOMI', 'Bandai Namco Entertainment', 'Cooperative video game', 'Multiplayer video game', 'Steel Gunner 2'] source='Wikipedia' tags=['2000 video games', 'Arcade video games', 'Cooperative video games', 'Light gun games', 'Multiplayer and single-player video games', 'Namco games', 'Now Production games', 'PlayStation 2 games', 'Rail shooters', 'Video games about ninja', 'Video games developed in Japan', 'Video games featuring female protagonists', 'Video games set in feudal Japan'] extra={'url': 'https://en.wikipedia.org/wiki/Ninja_Assault', 'page_length': 343, 'section_length': 85} stats=None\n"
     ]
    }
   ],
   "source": [
    "dataset = WikiDataset()\n",
    "random_entry = dataset.random()\n",
    "print(random_entry)"
   ]
  },
  {
   "cell_type": "code",
   "execution_count": 3,
   "metadata": {},
   "outputs": [
    {
     "name": "stdout",
     "output_type": "stream",
     "text": [
      "None\n"
     ]
    }
   ],
   "source": [
    "dataset = WikiDateDataset()\n",
    "random_entry = dataset.random()\n",
    "print(random_entry)"
   ]
  }
 ],
 "metadata": {
  "kernelspec": {
   "display_name": "prompting-fb5sw-i7-py3.10",
   "language": "python",
   "name": "python3"
  },
  "language_info": {
   "codemirror_mode": {
    "name": "ipython",
    "version": 3
   },
   "file_extension": ".py",
   "mimetype": "text/x-python",
   "name": "python",
   "nbconvert_exporter": "python",
   "pygments_lexer": "ipython3",
   "version": "3.10.12"
  }
 },
 "nbformat": 4,
 "nbformat_minor": 2
}
