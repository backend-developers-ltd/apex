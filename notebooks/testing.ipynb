{
 "cells": [
  {
   "cell_type": "code",
   "execution_count": 18,
   "metadata": {},
   "outputs": [
    {
     "name": "stderr",
     "output_type": "stream",
     "text": [
      "/tmp/ipykernel_95078/659430835.py:7: DeprecationWarning: Conversion of an array with ndim > 0 to a scalar is deprecated, and will error in future. Ensure you extract a single element from your array before performing this operation. (Deprecated NumPy 1.25.)\n",
      "  float(x@y), x@y\n"
     ]
    },
    {
     "data": {
      "text/plain": [
       "(2.561555106557572, array([[2.56155511]]))"
      ]
     },
     "execution_count": 18,
     "metadata": {},
     "output_type": "execute_result"
    }
   ],
   "source": [
    "import numpy as np\n",
    "\n",
    "\n",
    "x = np.reshape(np.random.random(size=10), (1,-1))\n",
    "y = np.reshape(np.random.random(size=10), (-1,1))\n",
    "\n",
    "float(x@y), x@y"
   ]
  },
  {
   "cell_type": "code",
   "execution_count": 5,
   "metadata": {},
   "outputs": [
    {
     "name": "stderr",
     "output_type": "stream",
     "text": [
      "/root/.cache/pypoetry/virtualenvs/prompting-fb5sw-i7-py3.10/lib/python3.10/site-packages/tqdm/auto.py:21: TqdmWarning: IProgress not found. Please update jupyter and ipywidgets. See https://ipywidgets.readthedocs.io/en/stable/user_install.html\n",
      "  from .autonotebook import tqdm as notebook_tqdm\n",
      "2024-08-05 10:47:00,850\tINFO util.py:154 -- Missing packages: ['ipywidgets']. Run `pip install -U ipywidgets`, then restart the notebook server for rich notebook output.\n",
      "/root/.cache/pypoetry/virtualenvs/prompting-fb5sw-i7-py3.10/lib/python3.10/site-packages/pydantic/_internal/_fields.py:201: UserWarning: Field name \"name\" in \"WikiDateDataset\" shadows an attribute in parent \"BaseDataset\"\n",
      "  warnings.warn(\n"
     ]
    }
   ],
   "source": [
    "# from prompting.tasks.date_qa import DateQuestionAnsweringTask\n",
    "from prompting.tasks.base_task import BaseTask\n",
    "from prompting.rewards.reward import BaseRewardModel\n",
    "from prompting.tasks.summarization import SummarizationTask, SummarizationRewardConfig\n",
    "from prompting.tasks.qa import QuestionAnsweringTask, QARewardConfig\n",
    "\n",
    "from prompting.datasets.wiki import WikiDataset\n",
    "from prompting.datasets.base import BaseDataset\n",
    "from pydantic import BaseModel, ConfigDict\n",
    "import random\n",
    "from typing import ClassVar\n",
    "import bittensor as bt\n",
    "\n",
    "\n",
    "class TaskConfig(BaseModel):\n",
    "    task: BaseTask.__class__\n",
    "    probability: float\n",
    "    datasets: list[BaseDataset.__class__]\n",
    "    reward_model: BaseRewardModel.__class__\n",
    "\n",
    "    model_config = ConfigDict(arbitrary_types_allowed=True)\n",
    "\n",
    "\n",
    "class TaskRegistry(BaseModel):\n",
    "    tasks: ClassVar[list[TaskConfig]] = [\n",
    "        TaskConfig(task=QuestionAnsweringTask, probability=0.6, datasets=[WikiDataset], reward_model=QARewardConfig),\n",
    "        TaskConfig(\n",
    "            task=SummarizationTask, probability=0.4, datasets=[WikiDataset], reward_model=SummarizationRewardConfig\n",
    "        ),\n",
    "        # TaskConfig(task=DateQuestionAnsweringTask, probability=0.2, datasets=[WikiDateDataset])\n",
    "    ]\n",
    "\n",
    "    @classmethod\n",
    "    def random(cls) -> TaskConfig:\n",
    "        probabilities = [task.probability for task in cls.tasks]\n",
    "        selected_task = random.choices(cls.tasks, probabilities)[0]\n",
    "        return selected_task\n",
    "\n",
    "    @classmethod\n",
    "    def get_task_datasets(cls, task: BaseTask.__class__):\n",
    "        try:\n",
    "            return [t.datasets for t in cls.tasks if task is t.task][0]\n",
    "        except Exception:\n",
    "            bt.logging.error(\"Tried accessing non-registered task\")\n",
    "            return []\n",
    "\n",
    "    @classmethod\n",
    "    def get_random_task_dataset(cls, task: BaseTask.__class__) -> BaseDataset.__class__:\n",
    "        return random.choice(cls.get_task_datasets(task))\n",
    "\n",
    "    @classmethod\n",
    "    def get_task_reward(cls, task: BaseTask) -> BaseRewardModel:\n",
    "        try:\n",
    "            return [t.reward_model for t in cls.tasks if task is t.task][0]\n",
    "        except Exception:\n",
    "            bt.logging.error(\"Tried accessing non-registered task\")\n",
    "            return []\n",
    "\n",
    "    @classmethod\n",
    "    def create_random_task(cls, llm_pipeline) -> BaseTask:\n",
    "        task_config = cls.random()\n",
    "        dataset = cls.get_random_task_dataset(task_config.task)\n",
    "        return task_config.task(\n",
    "            llm_pipeline=llm_pipeline, context=dataset().next(), reward_config=task_config.reward_model()\n",
    "        )\n"
   ]
  },
  {
   "cell_type": "code",
   "execution_count": 9,
   "metadata": {},
   "outputs": [
    {
     "ename": "ValidationError",
     "evalue": "1 validation error for QuestionAnsweringTask\ncontext\n  Field required [type=missing, input_value={}, input_type=dict]\n    For further information visit https://errors.pydantic.dev/2.8/v/missing",
     "output_type": "error",
     "traceback": [
      "\u001b[0;31m---------------------------------------------------------------------------\u001b[0m",
      "\u001b[0;31mValidationError\u001b[0m                           Traceback (most recent call last)",
      "Cell \u001b[0;32mIn[9], line 1\u001b[0m\n\u001b[0;32m----> 1\u001b[0m TaskRegistry()\u001b[38;5;241m.\u001b[39mget_task_reward(\u001b[43mQuestionAnsweringTask\u001b[49m\u001b[43m(\u001b[49m\u001b[43m)\u001b[49m)\n",
      "File \u001b[0;32m~/.cache/pypoetry/virtualenvs/prompting-fb5sw-i7-py3.10/lib/python3.10/site-packages/pydantic/main.py:193\u001b[0m, in \u001b[0;36mBaseModel.__init__\u001b[0;34m(self, **data)\u001b[0m\n\u001b[1;32m    191\u001b[0m \u001b[38;5;66;03m# `__tracebackhide__` tells pytest and some other tools to omit this function from tracebacks\u001b[39;00m\n\u001b[1;32m    192\u001b[0m __tracebackhide__ \u001b[38;5;241m=\u001b[39m \u001b[38;5;28;01mTrue\u001b[39;00m\n\u001b[0;32m--> 193\u001b[0m \u001b[38;5;28;43mself\u001b[39;49m\u001b[38;5;241;43m.\u001b[39;49m\u001b[43m__pydantic_validator__\u001b[49m\u001b[38;5;241;43m.\u001b[39;49m\u001b[43mvalidate_python\u001b[49m\u001b[43m(\u001b[49m\u001b[43mdata\u001b[49m\u001b[43m,\u001b[49m\u001b[43m \u001b[49m\u001b[43mself_instance\u001b[49m\u001b[38;5;241;43m=\u001b[39;49m\u001b[38;5;28;43mself\u001b[39;49m\u001b[43m)\u001b[49m\n",
      "\u001b[0;31mValidationError\u001b[0m: 1 validation error for QuestionAnsweringTask\ncontext\n  Field required [type=missing, input_value={}, input_type=dict]\n    For further information visit https://errors.pydantic.dev/2.8/v/missing"
     ]
    }
   ],
   "source": [
    "TaskRegistry().get_task_reward(QuestionAnsweringTask)"
   ]
  }
 ],
 "metadata": {
  "kernelspec": {
   "display_name": "prompting-fb5sw-i7-py3.10",
   "language": "python",
   "name": "python3"
  },
  "language_info": {
   "codemirror_mode": {
    "name": "ipython",
    "version": 3
   },
   "file_extension": ".py",
   "mimetype": "text/x-python",
   "name": "python",
   "nbconvert_exporter": "python",
   "pygments_lexer": "ipython3",
   "version": "3.10.12"
  }
 },
 "nbformat": 4,
 "nbformat_minor": 2
}
